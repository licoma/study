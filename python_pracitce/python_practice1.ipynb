{
 "cells": [
  {
   "cell_type": "code",
   "execution_count": null,
   "metadata": {},
   "outputs": [],
   "source": [
    "multiline = '''\n",
    "Beautifulis better than ugly.\n",
    "Explicitis better than implicit.\n",
    "Simpleis better than complex.\n",
    "Complexis better than complicated.\n",
    "Flatis better than nested.\n",
    "Sparseis better than dense.\n",
    "'''\n",
    "print(multiline)\n"
   ]
  },
  {
   "cell_type": "code",
   "execution_count": 7,
   "metadata": {},
   "outputs": [
    {
     "name": "stdout",
     "output_type": "stream",
     "text": [
      "@@@@@@\n",
      "@    @\n",
      "@    @\n",
      "@    @\n",
      "@@@@@@\n"
     ]
    }
   ],
   "source": [
    "mark1 ='@'\n",
    "x = 6\n",
    "print(mark1 * x +'\\n' + mark1 + '    ' + mark1 + '\\n' + mark1 + '    ' + mark1 + '\\n' + mark1 + '    ' + mark1 + '\\n' + mark1 * x)"
   ]
  }
 ],
 "metadata": {
  "kernelspec": {
   "display_name": "Python 3",
   "language": "python",
   "name": "python3"
  },
  "language_info": {
   "codemirror_mode": {
    "name": "ipython",
    "version": 3
   },
   "file_extension": ".py",
   "mimetype": "text/x-python",
   "name": "python",
   "nbconvert_exporter": "python",
   "pygments_lexer": "ipython3",
   "version": "3.12.2"
  }
 },
 "nbformat": 4,
 "nbformat_minor": 2
}
